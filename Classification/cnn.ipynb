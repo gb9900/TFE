{
  "cells": [
    {
      "cell_type": "code",
      "execution_count": 1,
      "metadata": {
        "colab": {
          "base_uri": "https://localhost:8080/"
        },
        "id": "LHkFyOaaeB5L",
        "outputId": "81c15226-f71a-4817-848a-88e6fe28fe1e"
      },
      "outputs": [
        {
          "output_type": "stream",
          "name": "stdout",
          "text": [
            "Mounted at /content/gdrive/\n"
          ]
        }
      ],
      "source": [
        "#to use drive files\n",
        "from google.colab import drive\n",
        "drive.mount(\"/content/gdrive/\")"
      ]
    },
    {
      "cell_type": "code",
      "execution_count": 2,
      "metadata": {
        "id": "0AoM0FjqRDby"
      },
      "outputs": [],
      "source": [
        "import os\n",
        "import numpy as np\n",
        "from PIL import Image\n",
        "\n",
        "#path to the dataset\n",
        "#each label is contained in a folder\n",
        "data_directory = \"/content/gdrive/MyDrive/cl\"\n",
        "\n",
        "#initialize lists for images and labels\n",
        "images = []\n",
        "labels = []\n",
        "\n",
        "#for each class of the dataset\n",
        "for class_name in os.listdir(data_directory):\n",
        "    class_directory = os.path.join(data_directory, class_name)\n",
        "    #for each image of the class\n",
        "    for image_filename in os.listdir(class_directory):\n",
        "        image_path = os.path.join(class_directory, image_filename)\n",
        "\n",
        "        #read image + save dimensions\n",
        "        image = Image.open(image_path)\n",
        "        width, height = image.size\n",
        "        #maximum dimension for the new image\n",
        "        max_dimension = max(width, height)\n",
        "\n",
        "        #new image (white square of maximum dimension)\n",
        "        new_image = Image.new('RGB', (max_dimension, max_dimension), (255, 255, 255))  # (255, 255, 255) représente la couleur blanche\n",
        "        #coordinates of the center of the new image\n",
        "        x_center = (max_dimension - width) // 2\n",
        "        y_center = (max_dimension - height) // 2\n",
        "\n",
        "        #paste the original image in the center of the new image\n",
        "        new_image.paste(image, (x_center, y_center))\n",
        "        #image resizing so that all input images have the same dimensions\n",
        "        resized_image = np.array(new_image.resize((100,100)))\n",
        "\n",
        "        #maps each folder name to a numeric value\n",
        "        label_to_id = {'ID7685': 0, 'ID7708': 1, 'ID7710': 2, 'ID7711': 3, 'ID7712': 4, 'ID7716': 5, 'ID7726': 6, 'ID7757': 7, 'ID7759': 8, 'ID7852': 9, 'ID7895': 10}\n",
        "        #label_to_id = {'1': 0, '2': 1, '3': 2, '6': 3, '7': 4, '8': 5, '9': 6, '10': 7, '11': 8, '12': 9, '13': 10}\n",
        "        #label_to_id = {'A1': 0, 'A2': 1, 'A4': 2, 'A5': 3, 'A6': 4, 'B1': 5, 'B2': 6, 'B3': 7, 'C1': 8, 'C2': 9, 'D1': 10, 'D2': 11, 'D3': 12, 'D4': 13, 'E1': 14, 'E2': 15, 'F1': 16, 'F2': 17, 'G1': 18, 'H1': 19, 'H2': 20, 'H3': 21}\n",
        "        #label_to_id = {'A1': 0, 'A2': 1, 'A3': 2, 'B1': 3, 'B2': 4, 'B3': 5, 'C1': 6, 'C2': 7, 'C3': 8, 'C4': 9, 'C5': 10, 'C6': 11, 'D1': 12, 'D2': 13}\n",
        "\n",
        "        #add image and label to lists\n",
        "        images.append(resized_image)\n",
        "        labels.append(label_to_id[class_name])\n",
        "\n",
        "#convert lists to numpy arrays\n",
        "images = np.array(images)\n",
        "labels = np.array(labels)"
      ]
    },
    {
      "cell_type": "code",
      "execution_count": 3,
      "metadata": {
        "id": "9qj2KdxheUk4"
      },
      "outputs": [],
      "source": [
        "import tensorflow as tf\n",
        "from tensorflow import keras\n",
        "\n",
        "#CNN model creation\n",
        "model = keras.Sequential()\n",
        "\n",
        "#convolution layer 1\n",
        "model.add(keras.layers.Conv2D(32, (3, 3), activation='relu',input_shape=(100, 100, 3)))\n",
        "model.add(keras.layers.MaxPooling2D((2, 2)))\n",
        "\n",
        "#convolution layer 2\n",
        "model.add(keras.layers.Conv2D(64, (3, 3), activation='relu'))\n",
        "model.add(keras.layers.MaxPooling2D((2, 2)))\n",
        "\n",
        "#convolution layer 3 (disable for shallower cnn)\n",
        "model.add(keras.layers.Conv2D(64, (3, 3), activation='relu'))\n",
        "model.add(keras.layers.MaxPooling2D((2, 2)))\n",
        "\n",
        "#convolution layer 4\n",
        "model.add(keras.layers.Conv2D(128, (3, 3), activation='relu'))\n",
        "\n",
        "#data flattening for fully connected layers\n",
        "model.add(keras.layers.Flatten())\n",
        "\n",
        "\n",
        "#fully connected layers\n",
        "model.add(keras.layers.Dense(64, activation='relu'))\n",
        "model.add(keras.layers.Dense(11, activation='softmax'))  #set the number of classes"
      ]
    },
    {
      "cell_type": "code",
      "execution_count": 4,
      "metadata": {
        "id": "vOSa8SG7eZCT"
      },
      "outputs": [],
      "source": [
        "#model compilation\n",
        "model.compile(optimizer='adam',\n",
        "              loss='sparse_categorical_crossentropy',\n",
        "              metrics=['accuracy'])"
      ]
    },
    {
      "cell_type": "code",
      "execution_count": 5,
      "metadata": {
        "id": "P_HVTbcx69ld"
      },
      "outputs": [],
      "source": [
        "#division of dataset into train and test set\n",
        "from sklearn.model_selection import train_test_split\n",
        "train_images, test_images, train_labels, test_labels = train_test_split(images, labels, test_size=0.2,stratify=labels) #stratify ensures that each class is represented fairly in both the training and testing sets"
      ]
    },
    {
      "cell_type": "code",
      "execution_count": 6,
      "metadata": {
        "colab": {
          "base_uri": "https://localhost:8080/"
        },
        "id": "v9cDqKCv7MRa",
        "outputId": "8cac6f15-14b5-41fc-b330-c4764d5ad404"
      },
      "outputs": [
        {
          "output_type": "stream",
          "name": "stdout",
          "text": [
            "Epoch 1/20\n",
            "19/19 [==============================] - 9s 37ms/step - loss: 8.3855 - accuracy: 0.3127\n",
            "Epoch 2/20\n",
            "19/19 [==============================] - 0s 12ms/step - loss: 0.7358 - accuracy: 0.7475\n",
            "Epoch 3/20\n",
            "19/19 [==============================] - 0s 11ms/step - loss: 0.3456 - accuracy: 0.8896\n",
            "Epoch 4/20\n",
            "19/19 [==============================] - 0s 11ms/step - loss: 0.1498 - accuracy: 0.9515\n",
            "Epoch 5/20\n",
            "19/19 [==============================] - 0s 12ms/step - loss: 0.0483 - accuracy: 0.9883\n",
            "Epoch 6/20\n",
            "19/19 [==============================] - 0s 12ms/step - loss: 0.0249 - accuracy: 0.9950\n",
            "Epoch 7/20\n",
            "19/19 [==============================] - 0s 12ms/step - loss: 0.0123 - accuracy: 0.9983\n",
            "Epoch 8/20\n",
            "19/19 [==============================] - 0s 11ms/step - loss: 0.0065 - accuracy: 0.9983\n",
            "Epoch 9/20\n",
            "19/19 [==============================] - 0s 12ms/step - loss: 0.0022 - accuracy: 1.0000\n",
            "Epoch 10/20\n",
            "19/19 [==============================] - 0s 12ms/step - loss: 0.0014 - accuracy: 1.0000\n",
            "Epoch 11/20\n",
            "19/19 [==============================] - 0s 11ms/step - loss: 7.6740e-04 - accuracy: 1.0000\n",
            "Epoch 12/20\n",
            "19/19 [==============================] - 0s 11ms/step - loss: 5.0786e-04 - accuracy: 1.0000\n",
            "Epoch 13/20\n",
            "19/19 [==============================] - 0s 11ms/step - loss: 4.0338e-04 - accuracy: 1.0000\n",
            "Epoch 14/20\n",
            "19/19 [==============================] - 0s 11ms/step - loss: 3.4976e-04 - accuracy: 1.0000\n",
            "Epoch 15/20\n",
            "19/19 [==============================] - 0s 12ms/step - loss: 3.0420e-04 - accuracy: 1.0000\n",
            "Epoch 16/20\n",
            "19/19 [==============================] - 0s 11ms/step - loss: 2.6285e-04 - accuracy: 1.0000\n",
            "Epoch 17/20\n",
            "19/19 [==============================] - 0s 11ms/step - loss: 2.4066e-04 - accuracy: 1.0000\n",
            "Epoch 18/20\n",
            "19/19 [==============================] - 0s 11ms/step - loss: 2.1346e-04 - accuracy: 1.0000\n",
            "Epoch 19/20\n",
            "19/19 [==============================] - 0s 12ms/step - loss: 1.9291e-04 - accuracy: 1.0000\n",
            "Epoch 20/20\n",
            "19/19 [==============================] - 0s 12ms/step - loss: 1.7691e-04 - accuracy: 1.0000\n"
          ]
        }
      ],
      "source": [
        "#training the model\n",
        "history = model.fit(train_images, train_labels, epochs=20, batch_size=32)"
      ]
    },
    {
      "cell_type": "code",
      "execution_count": 7,
      "metadata": {
        "colab": {
          "base_uri": "https://localhost:8080/"
        },
        "id": "R81EuzxbzV37",
        "outputId": "0b7c3458-aa7c-4216-fcdd-5194016efac9"
      },
      "outputs": [
        {
          "output_type": "stream",
          "name": "stdout",
          "text": [
            "5/5 [==============================] - 0s 7ms/step - loss: 0.2330 - accuracy: 0.9467\n",
            "Test set accuracy : 94.67%\n"
          ]
        }
      ],
      "source": [
        "#calculating model loss and accuracy with the test set\n",
        "loss, accuracy = model.evaluate(test_images, test_labels, verbose=1)\n",
        "\n",
        "#print precision\n",
        "print(\"Test set accuracy : {:.2f}%\".format(accuracy * 100))"
      ]
    },
    {
      "cell_type": "code",
      "execution_count": 8,
      "metadata": {
        "colab": {
          "base_uri": "https://localhost:8080/",
          "height": 904
        },
        "id": "VFqm928gVvW8",
        "outputId": "738e7c1f-cdf4-44f0-9584-319fe6ed6d5e"
      },
      "outputs": [
        {
          "output_type": "display_data",
          "data": {
            "text/plain": [
              "<IPython.core.display.Javascript object>"
            ],
            "application/javascript": [
              "\n",
              "    async function download(id, filename, size) {\n",
              "      if (!google.colab.kernel.accessAllowed) {\n",
              "        return;\n",
              "      }\n",
              "      const div = document.createElement('div');\n",
              "      const label = document.createElement('label');\n",
              "      label.textContent = `Downloading \"${filename}\": `;\n",
              "      div.appendChild(label);\n",
              "      const progress = document.createElement('progress');\n",
              "      progress.max = size;\n",
              "      div.appendChild(progress);\n",
              "      document.body.appendChild(div);\n",
              "\n",
              "      const buffers = [];\n",
              "      let downloaded = 0;\n",
              "\n",
              "      const channel = await google.colab.kernel.comms.open(id);\n",
              "      // Send a message to notify the kernel that we're ready.\n",
              "      channel.send({})\n",
              "\n",
              "      for await (const message of channel.messages) {\n",
              "        // Send a message to notify the kernel that we're ready.\n",
              "        channel.send({})\n",
              "        if (message.buffers) {\n",
              "          for (const buffer of message.buffers) {\n",
              "            buffers.push(buffer);\n",
              "            downloaded += buffer.byteLength;\n",
              "            progress.value = downloaded;\n",
              "          }\n",
              "        }\n",
              "      }\n",
              "      const blob = new Blob(buffers, {type: 'application/binary'});\n",
              "      const a = document.createElement('a');\n",
              "      a.href = window.URL.createObjectURL(blob);\n",
              "      a.download = filename;\n",
              "      div.appendChild(a);\n",
              "      a.click();\n",
              "      div.remove();\n",
              "    }\n",
              "  "
            ]
          },
          "metadata": {}
        },
        {
          "output_type": "display_data",
          "data": {
            "text/plain": [
              "<IPython.core.display.Javascript object>"
            ],
            "application/javascript": [
              "download(\"download_0325060c-6202-4a21-91c3-66facfdb556f\", \"loss.png\", 14251)"
            ]
          },
          "metadata": {}
        },
        {
          "output_type": "display_data",
          "data": {
            "text/plain": [
              "<Figure size 640x480 with 1 Axes>"
            ],
            "image/png": "[encoded data removed]"
          },
          "metadata": {}
        },
        {
          "output_type": "display_data",
          "data": {
            "text/plain": [
              "<IPython.core.display.Javascript object>"
            ],
            "application/javascript": [
              "\n",
              "    async function download(id, filename, size) {\n",
              "      if (!google.colab.kernel.accessAllowed) {\n",
              "        return;\n",
              "      }\n",
              "      const div = document.createElement('div');\n",
              "      const label = document.createElement('label');\n",
              "      label.textContent = `Downloading \"${filename}\": `;\n",
              "      div.appendChild(label);\n",
              "      const progress = document.createElement('progress');\n",
              "      progress.max = size;\n",
              "      div.appendChild(progress);\n",
              "      document.body.appendChild(div);\n",
              "\n",
              "      const buffers = [];\n",
              "      let downloaded = 0;\n",
              "\n",
              "      const channel = await google.colab.kernel.comms.open(id);\n",
              "      // Send a message to notify the kernel that we're ready.\n",
              "      channel.send({})\n",
              "\n",
              "      for await (const message of channel.messages) {\n",
              "        // Send a message to notify the kernel that we're ready.\n",
              "        channel.send({})\n",
              "        if (message.buffers) {\n",
              "          for (const buffer of message.buffers) {\n",
              "            buffers.push(buffer);\n",
              "            downloaded += buffer.byteLength;\n",
              "            progress.value = downloaded;\n",
              "          }\n",
              "        }\n",
              "      }\n",
              "      const blob = new Blob(buffers, {type: 'application/binary'});\n",
              "      const a = document.createElement('a');\n",
              "      a.href = window.URL.createObjectURL(blob);\n",
              "      a.download = filename;\n",
              "      div.appendChild(a);\n",
              "      a.click();\n",
              "      div.remove();\n",
              "    }\n",
              "  "
            ]
          },
          "metadata": {}
        },
        {
          "output_type": "display_data",
          "data": {
            "text/plain": [
              "<IPython.core.display.Javascript object>"
            ],
            "application/javascript": [
              "download(\"download_ead83e1f-7a16-41c0-b753-3d56530eb769\", \"acc.png\", 21484)"
            ]
          },
          "metadata": {}
        },
        {
          "output_type": "display_data",
          "data": {
            "text/plain": [
              "<Figure size 640x480 with 1 Axes>"
            ],
            "image/png": "[encoded data removed]"
          },
          "metadata": {}
        }
      ],
      "source": [
        "import matplotlib.pyplot as plt\n",
        "from google.colab import files\n",
        "\n",
        "#visualization of the loss function\n",
        "plt.plot(history.history['loss'], label='Training Loss')\n",
        "plt.xlabel('Epoch')\n",
        "plt.ylabel('Loss')\n",
        "plt.legend()\n",
        "\n",
        "plt.savefig('loss.png')\n",
        "files.download('loss.png')\n",
        "plt.show()\n",
        "\n",
        "#visualization of the accuracy\n",
        "plt.plot(history.history['accuracy'], label='Training Accuracy')\n",
        "plt.title('Training Accuracy')\n",
        "plt.xlabel('Epoch')\n",
        "plt.ylabel('Accuracy')\n",
        "plt.legend()\n",
        "\n",
        "plt.savefig('acc.png')\n",
        "files.download('acc.png')\n",
        "plt.show()"
      ]
    },
    {
      "cell_type": "code",
      "execution_count": 9,
      "metadata": {
        "colab": {
          "base_uri": "https://localhost:8080/"
        },
        "id": "X65CtQXUrzrU",
        "outputId": "62e06390-6633-483e-8f18-c29b8cbdf7a3"
      },
      "outputs": [
        {
          "output_type": "stream",
          "name": "stdout",
          "text": [
            "5/5 [==============================] - 0s 4ms/step\n"
          ]
        }
      ],
      "source": [
        "#class predictions\n",
        "y_pred = model.predict(test_images)\n",
        "y_pred_classes = np.argmax(y_pred, axis=1)"
      ]
    },
    {
      "cell_type": "code",
      "execution_count": 10,
      "metadata": {
        "colab": {
          "base_uri": "https://localhost:8080/",
          "height": 455
        },
        "id": "YEiKo1LTsblZ",
        "outputId": "eba3a5a9-8cc4-4df9-ddb1-d8365469f656"
      },
      "outputs": [
        {
          "output_type": "display_data",
          "data": {
            "text/plain": [
              "<IPython.core.display.Javascript object>"
            ],
            "application/javascript": [
              "\n",
              "    async function download(id, filename, size) {\n",
              "      if (!google.colab.kernel.accessAllowed) {\n",
              "        return;\n",
              "      }\n",
              "      const div = document.createElement('div');\n",
              "      const label = document.createElement('label');\n",
              "      label.textContent = `Downloading \"${filename}\": `;\n",
              "      div.appendChild(label);\n",
              "      const progress = document.createElement('progress');\n",
              "      progress.max = size;\n",
              "      div.appendChild(progress);\n",
              "      document.body.appendChild(div);\n",
              "\n",
              "      const buffers = [];\n",
              "      let downloaded = 0;\n",
              "\n",
              "      const channel = await google.colab.kernel.comms.open(id);\n",
              "      // Send a message to notify the kernel that we're ready.\n",
              "      channel.send({})\n",
              "\n",
              "      for await (const message of channel.messages) {\n",
              "        // Send a message to notify the kernel that we're ready.\n",
              "        channel.send({})\n",
              "        if (message.buffers) {\n",
              "          for (const buffer of message.buffers) {\n",
              "            buffers.push(buffer);\n",
              "            downloaded += buffer.byteLength;\n",
              "            progress.value = downloaded;\n",
              "          }\n",
              "        }\n",
              "      }\n",
              "      const blob = new Blob(buffers, {type: 'application/binary'});\n",
              "      const a = document.createElement('a');\n",
              "      a.href = window.URL.createObjectURL(blob);\n",
              "      a.download = filename;\n",
              "      div.appendChild(a);\n",
              "      a.click();\n",
              "      div.remove();\n",
              "    }\n",
              "  "
            ]
          },
          "metadata": {}
        },
        {
          "output_type": "display_data",
          "data": {
            "text/plain": [
              "<IPython.core.display.Javascript object>"
            ],
            "application/javascript": [
              "download(\"download_ab466e1a-ced1-44c4-ad23-fb70f54f1c12\", \"heatmap.png\", 23509)"
            ]
          },
          "metadata": {}
        },
        {
          "output_type": "display_data",
          "data": {
            "text/plain": [
              "<Figure size 640x480 with 2 Axes>"
            ],
            "image/png": "[encoded data removed]"
          },
          "metadata": {}
        }
      ],
      "source": [
        "from sklearn.metrics import confusion_matrix\n",
        "import seaborn as sns\n",
        "\n",
        "#confusion matrix\n",
        "cm = confusion_matrix(test_labels, y_pred_classes)\n",
        "sns.heatmap(cm, annot=True, fmt='d', cmap='Blues')\n",
        "plt.xlabel('Prédictions')\n",
        "plt.ylabel('Classes')\n",
        "plt.savefig('heatmap.png')\n",
        "files.download('heatmap.png')\n",
        "plt.show()"
      ]
    }
  ],
  "metadata": {
    "accelerator": "GPU",
    "colab": {
      "gpuType": "T4",
      "provenance": []
    },
    "kernelspec": {
      "display_name": "Python 3 (ipykernel)",
      "language": "python",
      "name": "python3"
    },
    "language_info": {
      "codemirror_mode": {
        "name": "ipython",
        "version": 3
      },
      "file_extension": ".py",
      "mimetype": "text/x-python",
      "name": "python",
      "nbconvert_exporter": "python",
      "pygments_lexer": "ipython3",
      "version": "3.11.4"
    }
  },
  "nbformat": 4,
  "nbformat_minor": 0
}