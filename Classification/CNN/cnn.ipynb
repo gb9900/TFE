{
  "nbformat": 4,
  "nbformat_minor": 0,
  "metadata": {
    "colab": {
      "provenance": [],
      "gpuType": "T4"
    },
    "kernelspec": {
      "name": "python3",
      "display_name": "Python 3"
    },
    "language_info": {
      "name": "python"
    },
    "accelerator": "GPU"
  },
  "cells": [
    {
      "cell_type": "code",
      "execution_count": null,
      "metadata": {
        "id": "LHkFyOaaeB5L",
        "colab": {
          "base_uri": "https://localhost:8080/"
        },
        "outputId": "a9fa67ec-aa63-4e54-d32d-4299c2fce8d4"
      },
      "outputs": [
        {
          "output_type": "stream",
          "name": "stdout",
          "text": [
            "Mounted at /content/gdrive\n"
          ]
        }
      ],
      "source": [
        "from google.colab import drive\n",
        "drive.mount(\"/content/gdrive\")"
      ]
    },
    {
      "cell_type": "code",
      "source": [
        "#import\n",
        "import tensorflow as tf\n",
        "from tensorflow import keras\n",
        "import os\n",
        "import numpy as np\n",
        "from PIL import Image\n",
        "\n",
        "#chemin vers le dataset\n",
        "#chaque label est contenu dans un dossier\n",
        "data_directory = \"/content/gdrive/MyDrive/cl\"\n",
        "\n",
        "#initialisation des listes pour les images et les étiquettes\n",
        "images = []\n",
        "labels = []\n",
        "\n",
        "#parcourt chaque classe dans le répertoire de données\n",
        "for class_name in os.listdir(data_directory):\n",
        "    class_directory = os.path.join(data_directory, class_name)\n",
        "\n",
        "    #parcourt les fichiers d'images dans chaque classe\n",
        "    for image_filename in os.listdir(class_directory):\n",
        "        image_path = os.path.join(class_directory, image_filename)\n",
        "\n",
        "        #lire l'image\n",
        "        image = Image.open(image_path)\n",
        "\n",
        "        #dimensions de l'image d'origine\n",
        "        width, height = image.size\n",
        "\n",
        "        #dimension maximale (largeur ou hauteur) pour la nouvelle image carrée\n",
        "        max_dimension = max(width, height)\n",
        "\n",
        "        #nouvelle image carrée blanche avec la taille maximale\n",
        "        new_image = Image.new('RGB', (max_dimension, max_dimension), (255, 255, 255))  # (255, 255, 255) représente la couleur blanche\n",
        "\n",
        "        #coordonnées où coller l'image d'origine au centre de la nouvelle image\n",
        "        x_offset = (max_dimension - width) // 2\n",
        "        y_offset = (max_dimension - height) // 2\n",
        "\n",
        "        #collage l'image d'origine au centre de la nouvelle image\n",
        "        new_image.paste(image, (x_offset, y_offset))\n",
        "\n",
        "\n",
        "        #redimmentionement de l'image\n",
        "        resized_image = np.array(new_image.resize((100,100)))\n",
        "\n",
        "\n",
        "        #ajout de l'image et de son étiquette aux listes\n",
        "        images.append(resized_image)\n",
        "        #fait correspondre chaque boite a un label\n",
        "        label_to_id = {'ID7685': 0, 'ID7708': 1, 'ID7710': 2, 'ID7711': 3, 'ID7712': 4, 'ID7716': 5, 'ID7726': 6, 'ID7757': 7, 'ID7759': 8, 'ID7852': 9, 'ID7895': 10}\n",
        "        #label_to_id = {'1': 0, '2': 1, '3': 2, '6': 3, '7': 4, '8': 5, '9': 6, '10': 7, '11': 8, '12': 9, '13': 10}\n",
        "        #label_to_id = {'A1': 0, 'A2': 1, 'A4': 2, 'A5': 3, 'A6': 4, 'B1': 5, 'B2': 6, 'B3': 7, 'C1': 8, 'C2': 9, 'D1': 10, 'D2': 11, 'D3': 12, 'D4': 13, 'E1': 14, 'E2': 15, 'F1': 16, 'F2': 17, 'G1': 18, 'H1': 19, 'H2': 20, 'H3': 21}\n",
        "        #label_to_id = {'A1': 0, 'A2': 1, 'A3': 2, 'B1': 3, 'B2': 4, 'B3': 5, 'C1': 6, 'C2': 7, 'C3': 8, 'C4': 9, 'C5': 10, 'C6': 11, 'D1': 12, 'D2': 13}\n",
        "        labels.append(label_to_id[class_name])\n",
        "\n",
        "\n",
        "#convertir les listes en tableaux numpy\n",
        "images = np.array(images)\n",
        "labels = np.array(labels)\n",
        "\n"
      ],
      "metadata": {
        "id": "0AoM0FjqRDby"
      },
      "execution_count": null,
      "outputs": []
    },
    {
      "cell_type": "code",
      "source": [
        "tabb = []"
      ],
      "metadata": {
        "id": "s0iEApvS85tm"
      },
      "execution_count": null,
      "outputs": []
    },
    {
      "cell_type": "code",
      "source": [
        "model = keras.Sequential()\n",
        "\n",
        "# Couche de convolution 1\n",
        "model.add(keras.layers.Conv2D(32, (3, 3), activation='relu',input_shape=(100, 100, 3)))\n",
        "model.add(keras.layers.MaxPooling2D((2, 2)))\n",
        "\n",
        "# Couche de convolution 2\n",
        "model.add(keras.layers.Conv2D(64, (3, 3), activation='relu'))\n",
        "model.add(keras.layers.MaxPooling2D((2, 2)))\n",
        "\n",
        "# Couche de convolution 3\n",
        "model.add(keras.layers.Conv2D(64, (3, 3), activation='relu'))\n",
        "model.add(keras.layers.MaxPooling2D((2, 2)))\n",
        "\n",
        "# Couche de convolution 4\n",
        "model.add(keras.layers.Conv2D(128, (3, 3), activation='relu'))\n",
        "\n",
        "# Applatissement des données pour les couches entièrement connectées\n",
        "model.add(keras.layers.Flatten())\n",
        "\n",
        "\n",
        "# Couches entièrement connectées\n",
        "model.add(keras.layers.Dense(64, activation='relu'))\n",
        "model.add(keras.layers.Dense(11, activation='softmax'))  # nb de classes\n"
      ],
      "metadata": {
        "id": "9qj2KdxheUk4"
      },
      "execution_count": null,
      "outputs": []
    },
    {
      "cell_type": "code",
      "source": [
        "#compilation du modele\n",
        "model.compile(optimizer='adam',\n",
        "              loss='sparse_categorical_crossentropy',\n",
        "              metrics=['accuracy'])\n"
      ],
      "metadata": {
        "id": "vOSa8SG7eZCT"
      },
      "execution_count": null,
      "outputs": []
    },
    {
      "cell_type": "code",
      "source": [
        "#division du dataset en train et test set\n",
        "from sklearn.model_selection import train_test_split\n",
        "train_images, test_images, train_labels, test_labels = train_test_split(images, labels, test_size=0.2,stratify=labels)"
      ],
      "metadata": {
        "id": "P_HVTbcx69ld"
      },
      "execution_count": null,
      "outputs": []
    },
    {
      "cell_type": "code",
      "source": [
        "#faire apprendre le modele avec les donnees du train set\n",
        "history = model.fit(train_images, train_labels, epochs=20, batch_size=32)\n"
      ],
      "metadata": {
        "colab": {
          "base_uri": "https://localhost:8080/"
        },
        "id": "v9cDqKCv7MRa",
        "outputId": "617a1e59-8419-47e6-8e87-618ac01a4520"
      },
      "execution_count": null,
      "outputs": [
        {
          "output_type": "stream",
          "name": "stdout",
          "text": [
            "Epoch 1/20\n",
            "6/6 [==============================] - 2s 13ms/step - loss: 37.1879 - accuracy: 0.0909\n",
            "Epoch 2/20\n",
            "6/6 [==============================] - 0s 13ms/step - loss: 2.4514 - accuracy: 0.2970\n",
            "Epoch 3/20\n",
            "6/6 [==============================] - 0s 11ms/step - loss: 1.8516 - accuracy: 0.4061\n",
            "Epoch 4/20\n",
            "6/6 [==============================] - 0s 11ms/step - loss: 1.1669 - accuracy: 0.6485\n",
            "Epoch 5/20\n",
            "6/6 [==============================] - 0s 12ms/step - loss: 0.7279 - accuracy: 0.7818\n",
            "Epoch 6/20\n",
            "6/6 [==============================] - 0s 9ms/step - loss: 0.8508 - accuracy: 0.7636\n",
            "Epoch 7/20\n",
            "6/6 [==============================] - 0s 9ms/step - loss: 0.5130 - accuracy: 0.8606\n",
            "Epoch 8/20\n",
            "6/6 [==============================] - 0s 9ms/step - loss: 0.5750 - accuracy: 0.8485\n",
            "Epoch 9/20\n",
            "6/6 [==============================] - 0s 10ms/step - loss: 0.2307 - accuracy: 0.9576\n",
            "Epoch 10/20\n",
            "6/6 [==============================] - 0s 9ms/step - loss: 0.1074 - accuracy: 0.9818\n",
            "Epoch 11/20\n",
            "6/6 [==============================] - 0s 9ms/step - loss: 0.0440 - accuracy: 0.9879\n",
            "Epoch 12/20\n",
            "6/6 [==============================] - 0s 9ms/step - loss: 0.0271 - accuracy: 1.0000\n",
            "Epoch 13/20\n",
            "6/6 [==============================] - 0s 9ms/step - loss: 0.0150 - accuracy: 0.9939\n",
            "Epoch 14/20\n",
            "6/6 [==============================] - 0s 10ms/step - loss: 0.0041 - accuracy: 1.0000\n",
            "Epoch 15/20\n",
            "6/6 [==============================] - 0s 9ms/step - loss: 0.0025 - accuracy: 1.0000\n",
            "Epoch 16/20\n",
            "6/6 [==============================] - 0s 9ms/step - loss: 0.0010 - accuracy: 1.0000\n",
            "Epoch 17/20\n",
            "6/6 [==============================] - 0s 9ms/step - loss: 7.5094e-04 - accuracy: 1.0000\n",
            "Epoch 18/20\n",
            "6/6 [==============================] - 0s 9ms/step - loss: 6.2657e-04 - accuracy: 1.0000\n",
            "Epoch 19/20\n",
            "6/6 [==============================] - 0s 9ms/step - loss: 5.0084e-04 - accuracy: 1.0000\n",
            "Epoch 20/20\n",
            "6/6 [==============================] - 0s 9ms/step - loss: 4.0373e-04 - accuracy: 1.0000\n"
          ]
        }
      ]
    },
    {
      "cell_type": "code",
      "source": [
        "#calculer la precision du modele avec le test set\n",
        "loss, accuracy = model.evaluate(test_images, test_labels, verbose=0)\n",
        "\n",
        "#affichez la précision\n",
        "print(\"Précision sur l'ensemble de test : {:.2f}%\".format(accuracy * 100))\n",
        "tabb.append(accuracy)"
      ],
      "metadata": {
        "id": "R81EuzxbzV37",
        "colab": {
          "base_uri": "https://localhost:8080/"
        },
        "outputId": "0a2065b8-777d-45db-c767-7fae9404f3de"
      },
      "execution_count": null,
      "outputs": [
        {
          "output_type": "stream",
          "name": "stdout",
          "text": [
            "Précision sur l'ensemble de test : 92.73%\n"
          ]
        }
      ]
    },
    {
      "cell_type": "code",
      "source": [
        "import matplotlib.pyplot as plt\n",
        "from google.colab import files\n",
        "\n",
        "#visualisation de la fonction de perte\n",
        "plt.plot(history.history['loss'], label='Training Loss')\n",
        "plt.xlabel('Epoch')\n",
        "plt.ylabel('Loss')\n",
        "plt.legend()\n",
        "\n",
        "plt.savefig('cl2losst.png')\n",
        "files.download('cl2losst.png')\n",
        "plt.show()\n",
        "#visualisation de la précision\n",
        "plt.plot(history.history['accuracy'], label='Training Accuracy')\n",
        "plt.title('Training Accuracy')\n",
        "plt.xlabel('Epoch')\n",
        "plt.ylabel('Accuracy')\n",
        "plt.legend()\n",
        "\n",
        "plt.savefig('cl2acct.png')\n",
        "files.download('cl2acct.png')\n",
        "plt.show()"
      ],
      "metadata": {
        "colab": {
          "base_uri": "https://localhost:8080/",
          "height": 904
        },
        "id": "VFqm928gVvW8",
        "outputId": "51fae46d-c223-45eb-c91f-3eba52cedb4b"
      },
      "execution_count": null,
      "outputs": [
        {
          "output_type": "display_data",
          "data": {
            "text/plain": [
              "<IPython.core.display.Javascript object>"
            ],
            "application/javascript": [
              "\n",
              "    async function download(id, filename, size) {\n",
              "      if (!google.colab.kernel.accessAllowed) {\n",
              "        return;\n",
              "      }\n",
              "      const div = document.createElement('div');\n",
              "      const label = document.createElement('label');\n",
              "      label.textContent = `Downloading \"${filename}\": `;\n",
              "      div.appendChild(label);\n",
              "      const progress = document.createElement('progress');\n",
              "      progress.max = size;\n",
              "      div.appendChild(progress);\n",
              "      document.body.appendChild(div);\n",
              "\n",
              "      const buffers = [];\n",
              "      let downloaded = 0;\n",
              "\n",
              "      const channel = await google.colab.kernel.comms.open(id);\n",
              "      // Send a message to notify the kernel that we're ready.\n",
              "      channel.send({})\n",
              "\n",
              "      for await (const message of channel.messages) {\n",
              "        // Send a message to notify the kernel that we're ready.\n",
              "        channel.send({})\n",
              "        if (message.buffers) {\n",
              "          for (const buffer of message.buffers) {\n",
              "            buffers.push(buffer);\n",
              "            downloaded += buffer.byteLength;\n",
              "            progress.value = downloaded;\n",
              "          }\n",
              "        }\n",
              "      }\n",
              "      const blob = new Blob(buffers, {type: 'application/binary'});\n",
              "      const a = document.createElement('a');\n",
              "      a.href = window.URL.createObjectURL(blob);\n",
              "      a.download = filename;\n",
              "      div.appendChild(a);\n",
              "      a.click();\n",
              "      div.remove();\n",
              "    }\n",
              "  "
            ]
          },
          "metadata": {}
        },
        {
          "output_type": "display_data",
          "data": {
            "text/plain": [
              "<IPython.core.display.Javascript object>"
            ],
            "application/javascript": [
              "download(\"download_68ef8ca6-aa5f-491a-bc5d-d444bd909c82\", \"cl2losst.png\", 16447)"
            ]
          },
          "metadata": {}
        },
        {
          "output_type": "display_data",
          "data": {
            "text/plain": [
              "<Figure size 640x480 with 1 Axes>"
            ],
            "image/png": "[encoded data removed]"
          },
          "metadata": {}
        },
        {
          "output_type": "display_data",
          "data": {
            "text/plain": [
              "<IPython.core.display.Javascript object>"
            ],
            "application/javascript": [
              "\n",
              "    async function download(id, filename, size) {\n",
              "      if (!google.colab.kernel.accessAllowed) {\n",
              "        return;\n",
              "      }\n",
              "      const div = document.createElement('div');\n",
              "      const label = document.createElement('label');\n",
              "      label.textContent = `Downloading \"${filename}\": `;\n",
              "      div.appendChild(label);\n",
              "      const progress = document.createElement('progress');\n",
              "      progress.max = size;\n",
              "      div.appendChild(progress);\n",
              "      document.body.appendChild(div);\n",
              "\n",
              "      const buffers = [];\n",
              "      let downloaded = 0;\n",
              "\n",
              "      const channel = await google.colab.kernel.comms.open(id);\n",
              "      // Send a message to notify the kernel that we're ready.\n",
              "      channel.send({})\n",
              "\n",
              "      for await (const message of channel.messages) {\n",
              "        // Send a message to notify the kernel that we're ready.\n",
              "        channel.send({})\n",
              "        if (message.buffers) {\n",
              "          for (const buffer of message.buffers) {\n",
              "            buffers.push(buffer);\n",
              "            downloaded += buffer.byteLength;\n",
              "            progress.value = downloaded;\n",
              "          }\n",
              "        }\n",
              "      }\n",
              "      const blob = new Blob(buffers, {type: 'application/binary'});\n",
              "      const a = document.createElement('a');\n",
              "      a.href = window.URL.createObjectURL(blob);\n",
              "      a.download = filename;\n",
              "      div.appendChild(a);\n",
              "      a.click();\n",
              "      div.remove();\n",
              "    }\n",
              "  "
            ]
          },
          "metadata": {}
        },
        {
          "output_type": "display_data",
          "data": {
            "text/plain": [
              "<IPython.core.display.Javascript object>"
            ],
            "application/javascript": [
              "download(\"download_12dbdde4-cd54-4651-9832-05029c10fd56\", \"cl2acct.png\", 22461)"
            ]
          },
          "metadata": {}
        },
        {
          "output_type": "display_data",
          "data": {
            "text/plain": [
              "<Figure size 640x480 with 1 Axes>"
            ],
            "image/png": "[encoded data removed]"
          },
          "metadata": {}
        }
      ]
    },
    {
      "cell_type": "code",
      "source": [
        "y_pred = model.predict(test_images)\n",
        "y_pred_classes = np.argmax(y_pred, axis=1)"
      ],
      "metadata": {
        "colab": {
          "base_uri": "https://localhost:8080/"
        },
        "id": "X65CtQXUrzrU",
        "outputId": "da48edde-7ba0-4e5c-fc7c-d278a6b985eb"
      },
      "execution_count": null,
      "outputs": [
        {
          "output_type": "stream",
          "name": "stdout",
          "text": [
            "6/6 [==============================] - 0s 4ms/step\n"
          ]
        }
      ]
    },
    {
      "cell_type": "code",
      "source": [
        "from sklearn.metrics import confusion_matrix\n",
        "\n",
        "cm = confusion_matrix(test_labels, y_pred_classes)"
      ],
      "metadata": {
        "id": "Nh5k_9O1sVP6"
      },
      "execution_count": null,
      "outputs": []
    },
    {
      "cell_type": "code",
      "source": [
        "import seaborn as sns\n",
        "import matplotlib.pyplot as plt\n",
        "\n",
        "sns.heatmap(cm, annot=True, fmt='d', cmap='Blues')\n",
        "plt.xlabel('Prédictions')\n",
        "plt.ylabel('Classes')\n",
        "plt.savefig('cl2heatt.png')\n",
        "files.download('cl2heatt.png')\n",
        "plt.show()\n"
      ],
      "metadata": {
        "colab": {
          "base_uri": "https://localhost:8080/",
          "height": 449
        },
        "id": "YEiKo1LTsblZ",
        "outputId": "059587ff-c511-441b-9688-c02002beaa81"
      },
      "execution_count": null,
      "outputs": [
        {
          "output_type": "display_data",
          "data": {
            "text/plain": [
              "<IPython.core.display.Javascript object>"
            ],
            "application/javascript": [
              "\n",
              "    async function download(id, filename, size) {\n",
              "      if (!google.colab.kernel.accessAllowed) {\n",
              "        return;\n",
              "      }\n",
              "      const div = document.createElement('div');\n",
              "      const label = document.createElement('label');\n",
              "      label.textContent = `Downloading \"${filename}\": `;\n",
              "      div.appendChild(label);\n",
              "      const progress = document.createElement('progress');\n",
              "      progress.max = size;\n",
              "      div.appendChild(progress);\n",
              "      document.body.appendChild(div);\n",
              "\n",
              "      const buffers = [];\n",
              "      let downloaded = 0;\n",
              "\n",
              "      const channel = await google.colab.kernel.comms.open(id);\n",
              "      // Send a message to notify the kernel that we're ready.\n",
              "      channel.send({})\n",
              "\n",
              "      for await (const message of channel.messages) {\n",
              "        // Send a message to notify the kernel that we're ready.\n",
              "        channel.send({})\n",
              "        if (message.buffers) {\n",
              "          for (const buffer of message.buffers) {\n",
              "            buffers.push(buffer);\n",
              "            downloaded += buffer.byteLength;\n",
              "            progress.value = downloaded;\n",
              "          }\n",
              "        }\n",
              "      }\n",
              "      const blob = new Blob(buffers, {type: 'application/binary'});\n",
              "      const a = document.createElement('a');\n",
              "      a.href = window.URL.createObjectURL(blob);\n",
              "      a.download = filename;\n",
              "      div.appendChild(a);\n",
              "      a.click();\n",
              "      div.remove();\n",
              "    }\n",
              "  "
            ]
          },
          "metadata": {}
        },
        {
          "output_type": "display_data",
          "data": {
            "text/plain": [
              "<IPython.core.display.Javascript object>"
            ],
            "application/javascript": [
              "download(\"download_688bfffb-6f7f-48dd-b555-2df142e28d8f\", \"cl2heatt.png\", 23780)"
            ]
          },
          "metadata": {}
        },
        {
          "output_type": "display_data",
          "data": {
            "text/plain": [
              "<Figure size 640x480 with 2 Axes>"
            ],
            "image/png": "[encoded data removed]"
          },
          "metadata": {}
        }
      ]
    }
  ]
}