{
  "cells": [
    {
      "cell_type": "code",
      "execution_count": 1,
      "metadata": {
        "colab": {
          "base_uri": "https://localhost:8080/"
        },
        "id": "LHkFyOaaeB5L",
        "outputId": "1a733be7-f4e5-4115-e715-47109adecf17"
      },
      "outputs": [
        {
          "output_type": "stream",
          "name": "stdout",
          "text": [
            "Mounted at /content/gdrive/\n"
          ]
        }
      ],
      "source": [
        "#to use drive files\n",
        "from google.colab import drive\n",
        "drive.mount(\"/content/gdrive/\")"
      ]
    },
    {
      "cell_type": "code",
      "execution_count": 3,
      "metadata": {
        "id": "0AoM0FjqRDby"
      },
      "outputs": [],
      "source": [
        "import os\n",
        "import numpy as np\n",
        "from PIL import Image\n",
        "\n",
        "#path to the dataset\n",
        "#each label is contained in a folder\n",
        "data_directory = \"/content/gdrive/MyDrive/cl\"\n",
        "\n",
        "#initialize lists for images and labels\n",
        "images = []\n",
        "labels = []\n",
        "\n",
        "#for each class of the dataset\n",
        "for class_name in os.listdir(data_directory):\n",
        "    class_directory = os.path.join(data_directory, class_name)\n",
        "    #for each image of the class\n",
        "    for image_filename in os.listdir(class_directory):\n",
        "        image_path = os.path.join(class_directory, image_filename)\n",
        "\n",
        "        #read image + save dimensions\n",
        "        image = Image.open(image_path)\n",
        "        width, height = image.size\n",
        "        #maximum dimension for the new image\n",
        "        max_dimension = max(width, height)\n",
        "\n",
        "        #new image (white square of maximum dimension)\n",
        "        new_image = Image.new('RGB', (max_dimension, max_dimension), (255, 255, 255))  # (255, 255, 255) représente la couleur blanche\n",
        "        #coordinates of the center of the new image\n",
        "        x_center = (max_dimension - width) // 2\n",
        "        y_center = (max_dimension - height) // 2\n",
        "\n",
        "        #paste the original image in the center of the new image\n",
        "        new_image.paste(image, (x_center, y_center))\n",
        "        #image resizing so that all input images have the same dimensions\n",
        "        resized_image = np.array(new_image.resize((100,100)))\n",
        "\n",
        "        #maps each folder name to a numeric value\n",
        "        label_to_id = {'ID7685': 0, 'ID7708': 1, 'ID7710': 2, 'ID7711': 3, 'ID7712': 4, 'ID7716': 5, 'ID7726': 6, 'ID7757': 7, 'ID7759': 8, 'ID7852': 9, 'ID7895': 10}\n",
        "        #label_to_id = {'1': 0, '2': 1, '3': 2, '6': 3, '7': 4, '8': 5, '9': 6, '10': 7, '11': 8, '12': 9, '13': 10}\n",
        "        #label_to_id = {'A1': 0, 'A2': 1, 'A4': 2, 'A5': 3, 'A6': 4, 'B1': 5, 'B2': 6, 'B3': 7, 'C1': 8, 'C2': 9, 'D1': 10, 'D2': 11, 'D3': 12, 'D4': 13, 'E1': 14, 'E2': 15, 'F1': 16, 'F2': 17, 'G1': 18, 'H1': 19, 'H2': 20, 'H3': 21}\n",
        "        #label_to_id = {'A1': 0, 'A2': 1, 'A3': 2, 'B1': 3, 'B2': 4, 'B3': 5, 'C1': 6, 'C2': 7, 'C3': 8, 'C4': 9, 'C5': 10, 'C6': 11, 'D1': 12, 'D2': 13}\n",
        "\n",
        "        #add image and label to lists\n",
        "        images.append(resized_image.flatten()) #image flattening\n",
        "        labels.append(label_to_id[class_name])\n",
        "\n",
        "#convert lists to numpy arrays\n",
        "data = np.array(images)\n",
        "labels = np.array(labels)"
      ]
    },
    {
      "cell_type": "code",
      "execution_count": 4,
      "metadata": {
        "colab": {
          "base_uri": "https://localhost:8080/"
        },
        "id": "0Kb3QaxLxK3G",
        "outputId": "16379c12-4521-4749-df70-23bd7ca53084"
      },
      "outputs": [
        {
          "output_type": "stream",
          "name": "stdout",
          "text": [
            "Test set accuracy : 91.18%\n"
          ]
        }
      ],
      "source": [
        "from sklearn import datasets\n",
        "from sklearn.model_selection import train_test_split\n",
        "from sklearn.svm import SVC\n",
        "from sklearn.metrics import accuracy_score\n",
        "\n",
        "#SVM model creation\n",
        "svm_model = SVC(kernel='linear', C=1.0)\n",
        "\n",
        "#division of dataset into train and test set\n",
        "X_train, X_test, y_train, y_test = train_test_split(data, labels, test_size=0.5,stratify=labels) #stratify ensures that each class is represented fairly in both the training and testing sets\n",
        "\n",
        "#training the model\n",
        "svm_model.fit(X_train, y_train)\n",
        "\n",
        "#class predictions\n",
        "y_pred = svm_model.predict(X_test)\n",
        "\n",
        "#calculating model accuracy with the test set\n",
        "accuracy = accuracy_score(y_test, y_pred)\n",
        "print(\"Test set accuracy : {:.2f}%\".format(accuracy * 100))"
      ]
    },
    {
      "cell_type": "code",
      "execution_count": 5,
      "metadata": {
        "colab": {
          "base_uri": "https://localhost:8080/",
          "height": 449
        },
        "id": "EbMrqKMOGqJb",
        "outputId": "e4d745d2-1adf-40d3-a032-2afdcd29ca5a"
      },
      "outputs": [
        {
          "output_type": "display_data",
          "data": {
            "text/plain": [
              "<IPython.core.display.Javascript object>"
            ],
            "application/javascript": [
              "\n",
              "    async function download(id, filename, size) {\n",
              "      if (!google.colab.kernel.accessAllowed) {\n",
              "        return;\n",
              "      }\n",
              "      const div = document.createElement('div');\n",
              "      const label = document.createElement('label');\n",
              "      label.textContent = `Downloading \"${filename}\": `;\n",
              "      div.appendChild(label);\n",
              "      const progress = document.createElement('progress');\n",
              "      progress.max = size;\n",
              "      div.appendChild(progress);\n",
              "      document.body.appendChild(div);\n",
              "\n",
              "      const buffers = [];\n",
              "      let downloaded = 0;\n",
              "\n",
              "      const channel = await google.colab.kernel.comms.open(id);\n",
              "      // Send a message to notify the kernel that we're ready.\n",
              "      channel.send({})\n",
              "\n",
              "      for await (const message of channel.messages) {\n",
              "        // Send a message to notify the kernel that we're ready.\n",
              "        channel.send({})\n",
              "        if (message.buffers) {\n",
              "          for (const buffer of message.buffers) {\n",
              "            buffers.push(buffer);\n",
              "            downloaded += buffer.byteLength;\n",
              "            progress.value = downloaded;\n",
              "          }\n",
              "        }\n",
              "      }\n",
              "      const blob = new Blob(buffers, {type: 'application/binary'});\n",
              "      const a = document.createElement('a');\n",
              "      a.href = window.URL.createObjectURL(blob);\n",
              "      a.download = filename;\n",
              "      div.appendChild(a);\n",
              "      a.click();\n",
              "      div.remove();\n",
              "    }\n",
              "  "
            ]
          },
          "metadata": {}
        },
        {
          "output_type": "display_data",
          "data": {
            "text/plain": [
              "<IPython.core.display.Javascript object>"
            ],
            "application/javascript": [
              "download(\"download_cda8df75-3c1f-4878-9dc0-9a8a47cb6727\", \"heatmap.png\", 26694)"
            ]
          },
          "metadata": {}
        },
        {
          "output_type": "display_data",
          "data": {
            "text/plain": [
              "<Figure size 640x480 with 2 Axes>"
            ],
            "image/png": "[encoded data removed]"
          },
          "metadata": {}
        }
      ],
      "source": [
        "from sklearn.metrics import confusion_matrix\n",
        "import seaborn as sns\n",
        "import matplotlib.pyplot as plt\n",
        "from google.colab import files\n",
        "\n",
        "#confusion matrix\n",
        "cm = confusion_matrix(y_test, y_pred)\n",
        "sns.heatmap(cm, annot=True, fmt='d', cmap='Blues')\n",
        "plt.xlabel('Prédictions')\n",
        "plt.ylabel('Classes')\n",
        "plt.savefig('heatmap.png')\n",
        "files.download('heatmap.png')\n",
        "plt.show()"
      ]
    }
  ],
  "metadata": {
    "accelerator": "GPU",
    "colab": {
      "gpuType": "T4",
      "provenance": []
    },
    "kernelspec": {
      "display_name": "Python 3 (ipykernel)",
      "language": "python",
      "name": "python3"
    },
    "language_info": {
      "codemirror_mode": {
        "name": "ipython",
        "version": 3
      },
      "file_extension": ".py",
      "mimetype": "text/x-python",
      "name": "python",
      "nbconvert_exporter": "python",
      "pygments_lexer": "ipython3",
      "version": "3.11.4"
    }
  },
  "nbformat": 4,
  "nbformat_minor": 0
}