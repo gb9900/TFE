{
  "nbformat": 4,
  "nbformat_minor": 0,
  "metadata": {
    "colab": {
      "provenance": [],
      "gpuType": "T4"
    },
    "kernelspec": {
      "name": "python3",
      "display_name": "Python 3"
    },
    "language_info": {
      "name": "python"
    },
    "accelerator": "GPU"
  },
  "cells": [
    {
      "cell_type": "code",
      "execution_count": null,
      "metadata": {
        "id": "LHkFyOaaeB5L",
        "colab": {
          "base_uri": "https://localhost:8080/"
        },
        "outputId": "195629f8-f72b-4a27-e68e-589299624860"
      },
      "outputs": [
        {
          "output_type": "stream",
          "name": "stdout",
          "text": [
            "Mounted at /content/gdrive/\n"
          ]
        }
      ],
      "source": [
        "#montage pour utiliser les dossier sur le drive\n",
        "from google.colab import drive\n",
        "drive.mount('/content/gdrive/')"
      ]
    },
    {
      "cell_type": "code",
      "source": [
        "#import\n",
        "import tensorflow as tf\n",
        "from tensorflow import keras\n",
        "import os\n",
        "import numpy as np\n",
        "from PIL import Image\n",
        "\n",
        "#chemin vers le dataset\n",
        "#chaque label est contenu dans un dossier\n",
        "data_directory = \"/content/gdrive/MyDrive/cl\"\n",
        "\n",
        "#initialisation des listes pour les images et les étiquettes\n",
        "images = []\n",
        "labels = []\n",
        "\n",
        "#parcourt chaque classe dans le répertoire de données\n",
        "for class_name in os.listdir(data_directory):\n",
        "    class_directory = os.path.join(data_directory, class_name)\n",
        "\n",
        "    #parcourt les fichiers d'images dans chaque classe\n",
        "    for image_filename in os.listdir(class_directory):\n",
        "        image_path = os.path.join(class_directory, image_filename)\n",
        "        #lire l'image\n",
        "        image = Image.open(image_path)\n",
        "\n",
        "        #dimensions de l'image d'origine\n",
        "        width, height = image.size\n",
        "\n",
        "        #dimension maximale (largeur ou hauteur) pour la nouvelle image carrée\n",
        "        max_dimension = max(width, height)\n",
        "\n",
        "        #nouvelle image carrée blanche avec la taille maximale\n",
        "        new_image = Image.new('RGB', (max_dimension, max_dimension), (255, 255, 255))  # (255, 255, 255) représente la couleur blanche\n",
        "\n",
        "        #coordonnées où coller l'image d'origine au centre de la nouvelle image\n",
        "        x_offset = (max_dimension - width) // 2\n",
        "        y_offset = (max_dimension - height) // 2\n",
        "\n",
        "        #collage l'image d'origine au centre de la nouvelle image\n",
        "        new_image.paste(image, (x_offset, y_offset))\n",
        "\n",
        "\n",
        "        #redimmentionement de l'image\n",
        "        resized_image = np.array(new_image.resize((100,100)))\n",
        "        images.append(resized_image.flatten())\n",
        "        #fait correspondre chaque boite a un label\n",
        "        label_to_id = {'ID7685': 0, 'ID7708': 1, 'ID7710': 2, 'ID7711': 3, 'ID7712': 4, 'ID7716': 5, 'ID7726': 6, 'ID7757': 7, 'ID7759': 8, 'ID7852': 9, 'ID7895': 10}\n",
        "        #label_to_id = {'1': 0, '2': 1, '3': 2, '6': 3, '7': 4, '8': 5, '9': 6, '10': 7, '11': 8, '12': 9, '13': 10}\n",
        "        #label_to_id = {'A1': 0, 'A2': 1, 'A3': 2, 'A4': 3, 'A5': 4, 'A6': 5, 'B1': 6, 'B2': 7, 'B3': 8, 'C1': 9, 'C2': 10, 'D1': 11, 'D2': 12, 'D3': 13, 'D4': 14, 'E1': 15, 'E2': 16, 'F1': 17, 'F2': 18, 'G1': 19, 'H1': 20, 'H2': 21, 'H3': 22}\n",
        "        #label_to_id = {'A1': 0, 'A2': 1, 'A3': 2, 'B1': 3, 'B2': 4, 'B3': 5, 'C1': 6, 'C2': 7, 'C3': 8, 'C4': 9, 'C5': 10, 'C6': 11, 'D1': 12, 'D2': 13}\n",
        "        labels.append(label_to_id[class_name])\n",
        "\n",
        "#conversion des listes en tableaux numpy\n",
        "data = np.array(images)\n",
        "labels = np.array(labels)\n",
        "\n",
        "\n"
      ],
      "metadata": {
        "id": "0AoM0FjqRDby"
      },
      "execution_count": null,
      "outputs": []
    },
    {
      "cell_type": "code",
      "source": [
        "from sklearn import datasets\n",
        "from sklearn.model_selection import train_test_split\n",
        "from sklearn.svm import SVC\n",
        "from sklearn.metrics import accuracy_score\n",
        "\n",
        "\n",
        "#division de l'ensemble de données en ensembles d'entraînement et de test\n",
        "X_train, X_test, y_train, y_test = train_test_split(data, labels, test_size=0.5,stratify=labels)\n",
        "\n",
        "\n",
        "#creation du modèle SVM\n",
        "svm_model = SVC(kernel='linear', C=1.0)\n",
        "\n",
        "#entrainement du modèle\n",
        "svm_model.fit(X_train, y_train)\n",
        "\n",
        "#predictions des classes pour l'ensemble de test\n",
        "y_pred = svm_model.predict(X_test)\n",
        "\n",
        "#calcul de la précision\n",
        "accuracy = accuracy_score(y_test, y_pred)\n",
        "print(f'Accuracy: {accuracy}')\n",
        "\n"
      ],
      "metadata": {
        "id": "0Kb3QaxLxK3G",
        "colab": {
          "base_uri": "https://localhost:8080/"
        },
        "outputId": "5956a928-3a2a-4fc9-dcfa-d7007b2f596a"
      },
      "execution_count": null,
      "outputs": [
        {
          "output_type": "stream",
          "name": "stdout",
          "text": [
            "Accuracy: 0.9\n"
          ]
        }
      ]
    },
    {
      "cell_type": "code",
      "source": [
        "y_pred = svm_model.predict(X_test)\n",
        "y_pred_classes = y_pred\n",
        "from sklearn.metrics import confusion_matrix\n",
        "\n",
        "cm = confusion_matrix(y_test, y_pred_classes)\n",
        "import seaborn as sns\n",
        "import matplotlib.pyplot as plt\n",
        "from google.colab import files\n",
        "\n",
        "sns.heatmap(cm, annot=True, fmt='d', cmap='Blues')\n",
        "plt.xlabel('Prédictions')\n",
        "plt.ylabel('Classes')\n",
        "plt.savefig('cl4heatsvmc.png')\n",
        "files.download('cl4heatsvmc.png')\n",
        "plt.show()\n"
      ],
      "metadata": {
        "colab": {
          "base_uri": "https://localhost:8080/",
          "height": 455
        },
        "id": "EbMrqKMOGqJb",
        "outputId": "3b9848ae-9f87-438c-f98e-09189f93b133"
      },
      "execution_count": null,
      "outputs": [
        {
          "output_type": "display_data",
          "data": {
            "text/plain": [
              "<IPython.core.display.Javascript object>"
            ],
            "application/javascript": [
              "\n",
              "    async function download(id, filename, size) {\n",
              "      if (!google.colab.kernel.accessAllowed) {\n",
              "        return;\n",
              "      }\n",
              "      const div = document.createElement('div');\n",
              "      const label = document.createElement('label');\n",
              "      label.textContent = `Downloading \"${filename}\": `;\n",
              "      div.appendChild(label);\n",
              "      const progress = document.createElement('progress');\n",
              "      progress.max = size;\n",
              "      div.appendChild(progress);\n",
              "      document.body.appendChild(div);\n",
              "\n",
              "      const buffers = [];\n",
              "      let downloaded = 0;\n",
              "\n",
              "      const channel = await google.colab.kernel.comms.open(id);\n",
              "      // Send a message to notify the kernel that we're ready.\n",
              "      channel.send({})\n",
              "\n",
              "      for await (const message of channel.messages) {\n",
              "        // Send a message to notify the kernel that we're ready.\n",
              "        channel.send({})\n",
              "        if (message.buffers) {\n",
              "          for (const buffer of message.buffers) {\n",
              "            buffers.push(buffer);\n",
              "            downloaded += buffer.byteLength;\n",
              "            progress.value = downloaded;\n",
              "          }\n",
              "        }\n",
              "      }\n",
              "      const blob = new Blob(buffers, {type: 'application/binary'});\n",
              "      const a = document.createElement('a');\n",
              "      a.href = window.URL.createObjectURL(blob);\n",
              "      a.download = filename;\n",
              "      div.appendChild(a);\n",
              "      a.click();\n",
              "      div.remove();\n",
              "    }\n",
              "  "
            ]
          },
          "metadata": {}
        },
        {
          "output_type": "display_data",
          "data": {
            "text/plain": [
              "<IPython.core.display.Javascript object>"
            ],
            "application/javascript": [
              "download(\"download_69422173-9f2c-481a-a9fb-c3178ba83db7\", \"cl4heatsvmc.png\", 25477)"
            ]
          },
          "metadata": {}
        },
        {
          "output_type": "display_data",
          "data": {
            "text/plain": [
              "<Figure size 640x480 with 2 Axes>"
            ],
            "image/png": "[encoded data removed]"
          },
          "metadata": {}
        }
      ]
    }
  ]
}